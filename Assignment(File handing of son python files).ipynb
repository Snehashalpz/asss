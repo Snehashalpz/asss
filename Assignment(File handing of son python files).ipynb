{
 "cells": [
  {
   "cell_type": "code",
   "execution_count": 1,
   "id": "1d03ce3a",
   "metadata": {},
   "outputs": [
    {
     "name": "stdout",
     "output_type": "stream",
     "text": [
      "Name:Aravind\n",
      "DOB:01-01-1999\n",
      "Height:181\n",
      "City:Madurai\n",
      "State:Tamil Nadu\n",
      "\n",
      "Name:Sneha\n",
      "DOB:27-05-2000\n",
      "Height:164\n",
      "City:Madurai\n",
      "State:Tamil Nadu\n",
      "\n",
      "Name:Anbarasi\n",
      "DOB:03-07-2000\n",
      "Height:157\n",
      "City:Trivandrum\n",
      "State:Kerala\n",
      "\n",
      "Name:Sam\n",
      "DOB:03-02-1994\n",
      "Height:170\n",
      "City:Bangalore\n",
      "State:Karnataka\n",
      "\n",
      "Name:Ram\n",
      "DOB:01-09-1959\n",
      "Height:176\n",
      "City:Hyderabad\n",
      "State:Andhra Pradesh\n",
      "\n"
     ]
    }
   ],
   "source": [
    "#Create a JSON file (employee.json) containing employee information of minimum 5 employees. Each employee information \n",
    "#consists of Name, DOB, Height, City, State. Write a python program that reads this information from the JSON file \n",
    "#and saves the information into a list of objects of Employee class. Finally print the list of the Employee objects.\n",
    "\n",
    "\n",
    "\n",
    "import json\n",
    "    \n",
    "class Employee:\n",
    "    def __init__(self,name,dob,height,city,state):\n",
    "        self.name= name\n",
    "        self.dob =dob\n",
    "        self.height = height\n",
    "        self.city = city\n",
    "        self.state = state\n",
    "        \n",
    "with open(\"employee.json\")as file:\n",
    "    data = json.load(file)\n",
    "\n",
    "employees =[]    \n",
    "    \n",
    "    \n",
    "for employee_data in data[\"employees\"]:\n",
    "    name = employee_data[\"Name\"]\n",
    "    dob = employee_data[\"DOB\"]\n",
    "    height= employee_data[\"Height\"]\n",
    "    city = employee_data[\"City\"]\n",
    "    state = employee_data[\"State\"]\n",
    "    \n",
    "\n",
    "    employee = Employee(name,dob,height,city,state)\n",
    "    employees.append(employee)\n",
    "\n",
    "for emp in employees:\n",
    "    print(f\"Name:{emp.name}\")\n",
    "    print(f\"DOB:{emp.dob}\")\n",
    "    print(f\"Height:{emp.height}\")\n",
    "    print(f\"City:{emp.city}\")\n",
    "    print(f\"State:{emp.state}\")\n",
    "    print()\n",
    "\n"
   ]
  },
  {
   "cell_type": "code",
   "execution_count": 2,
   "id": "9fa15b6c",
   "metadata": {},
   "outputs": [
    {
     "name": "stdout",
     "output_type": "stream",
     "text": [
      "{'Tami nadu': 'Chennai', 'Maharashtra': 'Mumbai', 'Karnataka': 'Bengalore', 'Andhra Pradesh': 'Amaravati', 'West Bengal': 'Kolkata', 'Rajasthan': 'Jaipur', 'Bihar': 'Patna'}\n"
     ]
    }
   ],
   "source": [
    "#Create a dictionary of any 7 Indian states and their capitals. Write this into a JSON file.\n",
    "\n",
    "\n",
    "states_capitals={\n",
    "     \n",
    "     \"Tami nadu\": \"Chennai\",\n",
    "     \"Maharashtra\": \"Mumbai\",\n",
    "     \"Karnataka\": \"Bengalore\",\n",
    "     \"Andhra Pradesh\":\"Amaravati\",\n",
    "     \"West Bengal\": \"Kolkata\",\n",
    "     \"Rajasthan\": \"Jaipur\",\n",
    "     \"Bihar\":\"Patna\"\n",
    "}\n",
    "import json\n",
    "\n",
    "with open(\"states_capitals\",\"w\")as file:\n",
    "    json.dump(states_capitals,file)\n",
    "    \n",
    "with open(\"states_capitals\") as file:\n",
    "    data = json.load(file)\n",
    "    \n",
    "print(data)"
   ]
  },
  {
   "cell_type": "code",
   "execution_count": null,
   "id": "75b1faed",
   "metadata": {},
   "outputs": [],
   "source": []
  }
 ],
 "metadata": {
  "kernelspec": {
   "display_name": "Python 3 (ipykernel)",
   "language": "python",
   "name": "python3"
  },
  "language_info": {
   "codemirror_mode": {
    "name": "ipython",
    "version": 3
   },
   "file_extension": ".py",
   "mimetype": "text/x-python",
   "name": "python",
   "nbconvert_exporter": "python",
   "pygments_lexer": "ipython3",
   "version": "3.10.9"
  }
 },
 "nbformat": 4,
 "nbformat_minor": 5
}
