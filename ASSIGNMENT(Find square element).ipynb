{
 "cells": [
  {
   "cell_type": "code",
   "execution_count": 1,
   "id": "30aa0d11",
   "metadata": {},
   "outputs": [
    {
     "name": "stdout",
     "output_type": "stream",
     "text": [
      "enter a list of numbers(separated by space):4 5 2 9\n",
      "square the element of the list:  [16, 25, 4, 81]\n"
     ]
    }
   ],
   "source": [
    "def square_numbers(num):\n",
    "    return list(map(lambda x : x**2,num))\n",
    "input_str=(input(\"enter a list of numbers(separated by space):\"))\n",
    "num = list(map(int,input_str.split()))\n",
    "\n",
    "result=square_numbers(num)\n",
    "print(\"square the element of the list: \",result)"
   ]
  },
  {
   "cell_type": "code",
   "execution_count": null,
   "id": "6dd90b5b",
   "metadata": {},
   "outputs": [],
   "source": []
  }
 ],
 "metadata": {
  "kernelspec": {
   "display_name": "Python 3 (ipykernel)",
   "language": "python",
   "name": "python3"
  },
  "language_info": {
   "codemirror_mode": {
    "name": "ipython",
    "version": 3
   },
   "file_extension": ".py",
   "mimetype": "text/x-python",
   "name": "python",
   "nbconvert_exporter": "python",
   "pygments_lexer": "ipython3",
   "version": "3.10.9"
  }
 },
 "nbformat": 4,
 "nbformat_minor": 5
}
