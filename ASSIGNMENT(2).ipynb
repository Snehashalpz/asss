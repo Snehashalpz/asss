{
 "cells": [
  {
   "cell_type": "code",
   "execution_count": 1,
   "id": "13085970",
   "metadata": {},
   "outputs": [
    {
     "name": "stdout",
     "output_type": "stream",
     "text": [
      "Name:Max,Age:3\n",
      "coat_color:Brown\n",
      "\n",
      "Name:Rusty,Age:4\n",
      "coat_color:Brindle\n",
      "Woof! Woof!\n",
      "i am a skilled hunter \n",
      "\n",
      "Name:Rocky,Age:5\n",
      "coat_color:white and brown\n",
      "Zzzz.. Zzzzz..\n",
      "i am loyal quard dog\n",
      "\n"
     ]
    }
   ],
   "source": [
    "#Create a class named ‘Dog’. It should have a constructor which accepts its name, age and coat color. \n",
    "#You must perform the following operations:\n",
    "\n",
    "\n",
    "class dog:\n",
    "    def __init__(self,name,age,coat_color):\n",
    "        self.name= name\n",
    "        self.age = age\n",
    "        self.coat_color = coat_color\n",
    "        \n",
    "    def description(self):\n",
    "        print(f\"Name:{self.name},Age:{self.age}\")\n",
    "              \n",
    "    def get_info(self):\n",
    "        print(f\"coat_color:{self.coat_color}\")\n",
    "        \n",
    "class jackRussellTerrier(dog):\n",
    "    def bark(self):\n",
    "        print(\"Woof! Woof!\")\n",
    "        \n",
    "    def hunt(self):\n",
    "        print(\"i am a skilled hunter \")\n",
    "        \n",
    "class bulldog(dog):\n",
    "    def snore(self):\n",
    "        print(\"Zzzz.. Zzzzz..\")\n",
    "        \n",
    "    def quard(self):\n",
    "        print(\"i am loyal quard dog\")\n",
    "        \n",
    "        \n",
    "Dog1 = dog(\"Max\",3,\"Brown\")\n",
    "Dog1.description()\n",
    "Dog1.get_info()\n",
    "print()\n",
    "\n",
    "Dog2 = jackRussellTerrier(\"Rusty\",4,\"Brindle\")\n",
    "Dog2.description()\n",
    "Dog2.get_info()\n",
    "Dog2.bark()\n",
    "Dog2.hunt()\n",
    "print()\n",
    "\n",
    "Dog3 = bulldog(\"Rocky\",5,\"white and brown\")\n",
    "Dog3.description()\n",
    "Dog3.get_info()\n",
    "Dog3.snore()\n",
    "Dog3.quard()\n",
    "print()\n",
    "\n"
   ]
  },
  {
   "cell_type": "code",
   "execution_count": null,
   "id": "3b370ea7",
   "metadata": {},
   "outputs": [],
   "source": []
  }
 ],
 "metadata": {
  "kernelspec": {
   "display_name": "Python 3 (ipykernel)",
   "language": "python",
   "name": "python3"
  },
  "language_info": {
   "codemirror_mode": {
    "name": "ipython",
    "version": 3
   },
   "file_extension": ".py",
   "mimetype": "text/x-python",
   "name": "python",
   "nbconvert_exporter": "python",
   "pygments_lexer": "ipython3",
   "version": "3.10.9"
  }
 },
 "nbformat": 4,
 "nbformat_minor": 5
}
